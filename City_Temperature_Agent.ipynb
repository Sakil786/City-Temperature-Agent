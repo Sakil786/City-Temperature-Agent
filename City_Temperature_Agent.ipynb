{
  "nbformat": 4,
  "nbformat_minor": 0,
  "metadata": {
    "colab": {
      "provenance": []
    },
    "kernelspec": {
      "name": "python3",
      "display_name": "Python 3"
    },
    "language_info": {
      "name": "python"
    }
  },
  "cells": [
    {
      "cell_type": "code",
      "execution_count": null,
      "metadata": {
        "id": "_q2PBZHMGfSH"
      },
      "outputs": [],
      "source": [
        "!pip install langgraph\n",
        "!pip install langchain langchain_groq langchain_community\n",
        "!pip install pyowm"
      ]
    },
    {
      "cell_type": "code",
      "source": [
        "from google.colab import userdata\n",
        "groq_api_key=userdata.get('groq_api_key')\n",
        "from langchain_groq import ChatGroq\n",
        "from langgraph.graph import Graph\n",
        "\n",
        "workflow = Graph()\n",
        "model=ChatGroq(groq_api_key=groq_api_key,model_name=\"llama3-groq-70b-8192-tool-use-preview\")\n",
        "from langchain_community.utilities import OpenWeatherMapAPIWrapper\n",
        "import os\n",
        "os.environ[\"OPENWEATHERMAP_API_KEY\"] = \"OPENWEATHERMAP_API_KEY\"\n",
        "weather = OpenWeatherMapAPIWrapper()"
      ],
      "metadata": {
        "id": "bQN4jLY_Gly_"
      },
      "execution_count": 2,
      "outputs": []
    },
    {
      "cell_type": "code",
      "source": [
        "def function_1(state):\n",
        "    messages = state['messages']\n",
        "    user_input = messages[-1]\n",
        "    complete_query = \"Your task is to provide only the city name based on the user query. \\\n",
        "                    Nothing more, just the city name mentioned. Following is the user query: \" + user_input\n",
        "    response = model.invoke(complete_query)\n",
        "    state['messages'].append(response.content) # appending AIMessage response to the AgentState\n",
        "    return state\n",
        "\n",
        "def function_2(state):\n",
        "    messages = state['messages']\n",
        "    agent_response = messages[-1]\n",
        "    weather = OpenWeatherMapAPIWrapper()\n",
        "    weather_data = weather.run(agent_response)\n",
        "    state['messages'].append(weather_data)\n",
        "    return state\n",
        "\n",
        "def function_3(state):\n",
        "    messages = state['messages']\n",
        "    user_input = messages[0]\n",
        "    available_info = messages[-1]\n",
        "    agent2_query = \"Your task is to provide info concisely based on the user query and the available information from the internet. \\\n",
        "                        Following is the user query: \" + user_input + \" Available information: \" + available_info\n",
        "    response = model.invoke(agent2_query)\n",
        "    return response.content"
      ],
      "metadata": {
        "id": "s2nuOgnqHWuS"
      },
      "execution_count": 3,
      "outputs": []
    },
    {
      "cell_type": "code",
      "source": [
        "from langgraph.graph import Graph\n",
        "\n",
        "workflow = Graph()\n",
        "\n",
        "\n",
        "workflow.add_node(\"agent\", function_1)\n",
        "workflow.add_node(\"tool\", function_2)\n",
        "workflow.add_node(\"responder\", function_3)\n",
        "\n",
        "workflow.add_edge('agent', 'tool')\n",
        "workflow.add_edge('tool', 'responder')\n",
        "\n",
        "workflow.set_entry_point(\"agent\")\n",
        "workflow.set_finish_point(\"responder\")\n",
        "\n",
        "app = workflow.compile()"
      ],
      "metadata": {
        "id": "URJORWkCHZIJ"
      },
      "execution_count": 4,
      "outputs": []
    },
    {
      "cell_type": "code",
      "source": [
        "from IPython.display import Image, display\n",
        "try:\n",
        "  display(Image(app.get_graph().draw_mermaid_png()))\n",
        "except Exception:\n",
        "  pass"
      ],
      "metadata": {
        "colab": {
          "base_uri": "https://localhost:8080/",
          "height": 449
        },
        "id": "z8EwrRmVHc1j",
        "outputId": "5e1f9a68-6271-48cf-cc15-e47a9e6e840d"
      },
      "execution_count": 5,
      "outputs": [
        {
          "output_type": "display_data",
          "data": {
            "image/jpeg": "[encoded data removed]",
            "text/plain": [
              "<IPython.core.display.Image object>"
            ]
          },
          "metadata": {}
        }
      ]
    },
    {
      "cell_type": "code",
      "source": [
        "inputs = {\"messages\": [\"what is the temperature in Bangalore\"]}\n",
        "app.invoke(inputs)"
      ],
      "metadata": {
        "colab": {
          "base_uri": "https://localhost:8080/",
          "height": 35
        },
        "id": "XtFqRgAMHf75",
        "outputId": "0ec3b07d-61aa-4fe6-a81d-e586e65672e5"
      },
      "execution_count": 6,
      "outputs": [
        {
          "output_type": "execute_result",
          "data": {
            "text/plain": [
              "'The current temperature in Bangalore is 23.49°C.'"
            ],
            "application/vnd.google.colaboratory.intrinsic+json": {
              "type": "string"
            }
          },
          "metadata": {},
          "execution_count": 6
        }
      ]
    },
    {
      "cell_type": "code",
      "source": [],
      "metadata": {
        "id": "Y3dgE7UIHksg"
      },
      "execution_count": null,
      "outputs": []
    }
  ]
}